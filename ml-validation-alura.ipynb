{
 "cells": [
  {
   "cell_type": "code",
   "execution_count": 13,
   "metadata": {},
   "outputs": [
    {
     "data": {
      "text/html": [
       "<div>\n",
       "<style scoped>\n",
       "    .dataframe tbody tr th:only-of-type {\n",
       "        vertical-align: middle;\n",
       "    }\n",
       "\n",
       "    .dataframe tbody tr th {\n",
       "        vertical-align: top;\n",
       "    }\n",
       "\n",
       "    .dataframe thead th {\n",
       "        text-align: right;\n",
       "    }\n",
       "</style>\n",
       "<table border=\"1\" class=\"dataframe\">\n",
       "  <thead>\n",
       "    <tr style=\"text-align: right;\">\n",
       "      <th></th>\n",
       "      <th>preco</th>\n",
       "      <th>vendido</th>\n",
       "      <th>idade_do_modelo</th>\n",
       "      <th>km_por_ano</th>\n",
       "    </tr>\n",
       "  </thead>\n",
       "  <tbody>\n",
       "    <tr>\n",
       "      <th>0</th>\n",
       "      <td>30941.02</td>\n",
       "      <td>1</td>\n",
       "      <td>18</td>\n",
       "      <td>35085.22134</td>\n",
       "    </tr>\n",
       "    <tr>\n",
       "      <th>1</th>\n",
       "      <td>40557.96</td>\n",
       "      <td>1</td>\n",
       "      <td>20</td>\n",
       "      <td>12622.05362</td>\n",
       "    </tr>\n",
       "    <tr>\n",
       "      <th>2</th>\n",
       "      <td>89627.50</td>\n",
       "      <td>0</td>\n",
       "      <td>12</td>\n",
       "      <td>11440.79806</td>\n",
       "    </tr>\n",
       "    <tr>\n",
       "      <th>3</th>\n",
       "      <td>95276.14</td>\n",
       "      <td>0</td>\n",
       "      <td>3</td>\n",
       "      <td>43167.32682</td>\n",
       "    </tr>\n",
       "    <tr>\n",
       "      <th>4</th>\n",
       "      <td>117384.68</td>\n",
       "      <td>1</td>\n",
       "      <td>4</td>\n",
       "      <td>12770.11290</td>\n",
       "    </tr>\n",
       "  </tbody>\n",
       "</table>\n",
       "</div>"
      ],
      "text/plain": [
       "       preco  vendido  idade_do_modelo   km_por_ano\n",
       "0   30941.02        1               18  35085.22134\n",
       "1   40557.96        1               20  12622.05362\n",
       "2   89627.50        0               12  11440.79806\n",
       "3   95276.14        0                3  43167.32682\n",
       "4  117384.68        1                4  12770.11290"
      ]
     },
     "execution_count": 13,
     "metadata": {},
     "output_type": "execute_result"
    }
   ],
   "source": [
    "import pandas as pd\n",
    "\n",
    "uri = \"https://gist.githubusercontent.com/guilhermesilveira/e99a526b2e7ccc6c3b70f53db43a87d2/raw/1605fc74aa778066bf2e6695e24d53cf65f2f447/machine-learning-carros-simulacao.csv\"\n",
    "dados = pd.read_csv(uri).drop(columns=[\"Unnamed: 0\"], axis=1)\n",
    "dados.head()"
   ]
  },
  {
   "cell_type": "code",
   "execution_count": 14,
   "metadata": {},
   "outputs": [
    {
     "name": "stdout",
     "output_type": "stream",
     "text": [
      "Treinaremos com 7500 elementos e testaremos com 2500 elementos\n"
     ]
    }
   ],
   "source": [
    "import numpy as np\n",
    "from sklearn.model_selection import train_test_split\n",
    "from sklearn.svm import LinearSVC\n",
    "from sklearn.metrics import accuracy_score\n",
    "\n",
    "x = dados[[\"preco\", \"idade_do_modelo\",\"km_por_ano\"]]\n",
    "y = dados[\"vendido\"]\n",
    "\n",
    "SEED = 158020\n",
    "np.random.seed(SEED)\n",
    "treino_x, teste_x, treino_y, teste_y = train_test_split(x, y, test_size = 0.25,\n",
    "                                                         stratify = y)\n",
    "print(\"Treinaremos com %d elementos e testaremos com %d elementos\" % (len(treino_x), len(teste_x)))"
   ]
  },
  {
   "cell_type": "code",
   "execution_count": 15,
   "metadata": {},
   "outputs": [
    {
     "name": "stdout",
     "output_type": "stream",
     "text": [
      "A acurácia do dummy stratified foi 58.00%\n"
     ]
    }
   ],
   "source": [
    "from sklearn.dummy import DummyClassifier\n",
    "\n",
    "dummy_stratified = DummyClassifier()\n",
    "dummy_stratified.fit(treino_x, treino_y)\n",
    "acuracia = dummy_stratified.score(teste_x, teste_y) * 100\n",
    "\n",
    "print(\"A acurácia do dummy stratified foi %.2f%%\" % acuracia)"
   ]
  },
  {
   "cell_type": "code",
   "execution_count": 16,
   "metadata": {},
   "outputs": [
    {
     "name": "stdout",
     "output_type": "stream",
     "text": [
      "A acurácia foi 71.92%\n"
     ]
    }
   ],
   "source": [
    "from sklearn.tree import DecisionTreeClassifier\n",
    "\n",
    "SEED = 158020\n",
    "np.random.seed(SEED)\n",
    "modelo = DecisionTreeClassifier(max_depth=2)\n",
    "modelo.fit(treino_x, treino_y)\n",
    "previsoes = modelo.predict(teste_x)\n",
    "\n",
    "acuracia = accuracy_score(teste_y, previsoes) * 100\n",
    "print(\"A acurácia foi %.2f%%\" % acuracia)"
   ]
  },
  {
   "cell_type": "code",
   "execution_count": 17,
   "metadata": {},
   "outputs": [
    {
     "name": "stdout",
     "output_type": "stream",
     "text": [
      "Treinaremos com 7500 elementos e testaremos com 2500 elementos\n",
      "A acurácia foi 71.92%\n"
     ]
    }
   ],
   "source": [
    "x = dados[[\"preco\", \"idade_do_modelo\",\"km_por_ano\"]]\n",
    "y = dados[\"vendido\"]\n",
    "\n",
    "SEED = 158020\n",
    "np.random.seed(SEED)\n",
    "treino_x, teste_x, treino_y, teste_y = train_test_split(x, y, test_size = 0.25,\n",
    "                                                         stratify = y)\n",
    "print(\"Treinaremos com %d elementos e testaremos com %d elementos\" % (len(treino_x), len(teste_x)))\n",
    "\n",
    "modelo = DecisionTreeClassifier(max_depth=2)\n",
    "modelo.fit(treino_x, treino_y)\n",
    "previsoes = modelo.predict(teste_x)\n",
    "\n",
    "acuracia = accuracy_score(teste_y, previsoes) * 100\n",
    "print(\"A acurácia foi %.2f%%\" % acuracia)"
   ]
  },
  {
   "cell_type": "code",
   "execution_count": 18,
   "metadata": {},
   "outputs": [
    {
     "name": "stdout",
     "output_type": "stream",
     "text": [
      "Accuracy [75.38, 76.18]\n"
     ]
    }
   ],
   "source": [
    "from sklearn.model_selection import cross_validate\n",
    "\n",
    "SEED = 6\n",
    "np.random.seed(SEED)\n",
    "\n",
    "modelo = DecisionTreeClassifier(max_depth=2)\n",
    "results = cross_validate(modelo, x, y, cv=3, return_train_score=False)\n",
    "media = results[\"test_score\"].mean()\n",
    "desvio_padrao = results[\"test_score\"].std()\n",
    "print(\"Accuracy [%.2f, %.2f]\" % ((media - desvio_padrao)*100, (media + desvio_padrao) * 100))"
   ]
  },
  {
   "cell_type": "code",
   "execution_count": 19,
   "metadata": {},
   "outputs": [
    {
     "name": "stdout",
     "output_type": "stream",
     "text": [
      "Accuracy com cross validation [75.49, 76.07]\n"
     ]
    }
   ],
   "source": [
    "modelo = DecisionTreeClassifier(max_depth=2)\n",
    "results = cross_validate(modelo, x, y, cv=5, return_train_score=False)\n",
    "media = results[\"test_score\"].mean()\n",
    "desvio_padrao = results[\"test_score\"].std()\n",
    "print(\"Accuracy com cross validation [%.2f, %.2f]\" % ((media - desvio_padrao)*100, (media + desvio_padrao) * 100))"
   ]
  },
  {
   "cell_type": "code",
   "execution_count": 22,
   "metadata": {},
   "outputs": [],
   "source": [
    "def imprime_resultados(results):\n",
    "    media = results[\"test_score\"].mean()\n",
    "    desvio_padrao = results[\"test_score\"].std()\n",
    "    print(\"Accuracy %.2f\" % (media * 100))\n",
    "    print(\"Accuracy com cross validation, 10 [%.2f, %.2f]\" % ((media - desvio_padrao)*100, (media + desvio_padrao) * 100))"
   ]
  },
  {
   "cell_type": "code",
   "execution_count": 23,
   "metadata": {},
   "outputs": [
    {
     "name": "stdout",
     "output_type": "stream",
     "text": [
      "Accuracy 75.78\n",
      "Accuracy com cross validation, 10 [75.08, 76.48]\n"
     ]
    }
   ],
   "source": [
    "from sklearn.model_selection import KFold\n",
    "\n",
    "cv = KFold(n_splits = 10)\n",
    "modelo = DecisionTreeClassifier(max_depth=2)\n",
    "results = cross_validate(modelo, x, y, cv=cv, return_train_score=False)\n",
    "imprime_resultados(results)"
   ]
  },
  {
   "cell_type": "code",
   "execution_count": 24,
   "metadata": {},
   "outputs": [
    {
     "name": "stdout",
     "output_type": "stream",
     "text": [
      "Accuracy 75.78\n",
      "Accuracy com cross validation, 10 [74.60, 76.96]\n"
     ]
    }
   ],
   "source": [
    "cv = KFold(n_splits = 10, shuffle=True)\n",
    "modelo = DecisionTreeClassifier(max_depth=2)\n",
    "results = cross_validate(modelo, x, y, cv=cv, return_train_score=False)\n",
    "imprime_resultados(results)"
   ]
  }
 ],
 "metadata": {
  "kernelspec": {
   "display_name": "Python 3",
   "language": "python",
   "name": "python3"
  },
  "language_info": {
   "codemirror_mode": {
    "name": "ipython",
    "version": 3
   },
   "file_extension": ".py",
   "mimetype": "text/x-python",
   "name": "python",
   "nbconvert_exporter": "python",
   "pygments_lexer": "ipython3",
   "version": "3.10.4"
  },
  "orig_nbformat": 4
 },
 "nbformat": 4,
 "nbformat_minor": 2
}
